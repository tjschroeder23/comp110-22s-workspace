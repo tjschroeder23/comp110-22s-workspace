{
 "cells": [
  {
   "cell_type": "markdown",
   "metadata": {},
   "source": [
    "# Analysis for Continuous Improvement\n",
    "\n",
    "Author Name: Kellyn Schroeder\n",
    "\n",
    "9-digit PID: 730308418\n",
    "\n",
    "Continuous Improvement embraces a belief there is _always room to make things better_. It is a mindset and process we value and practice in this course. In this assignment, you are able to practice continuous improvement and contribute to the design ideas of the course.\n",
    "\n",
    "## Brainstorming Ideas\n",
    "\n",
    "Reflect on your personal experiences and observations in COMP110 and **brainstorm modifications to the course that _create value_ beyond its current design**. When brainstorming, try not to be critical of the ideas you come up with regarding scale, stakeholders impacted, or for any other reasons. In the markdown cell below, brainstorm 3 to 5 ideas you think would create value for you.\n",
    "\n",
    "Each brainstormed idea should state a. the suggested change or addition, b. what the expected value created, and c. which specific stakeholders would benefit.  If helpful, expand on the following template \"The course should (state idea here) because it will (state value created here) for (insert stakeholders here).\"\n",
    "\n",
    "Example A: \"The course should use only examples from psychology experiments because it will be more relevant for students who are psychology majors.\"\n",
    "\n",
    "Example B: \"The course should not have post-lesson questions because they are not useful for most students in the class.\""
   ]
  },
  {
   "cell_type": "markdown",
   "metadata": {},
   "source": [
    "### Part 1. Creative Ideation\n",
    "\n",
    "1. The course should go over exercises in the class after the exercises are turned in because the students will then be able to learn more effective ways of coding than they would think of on their own. There could be easier paths to the same output that the professor knows, but would not come to mind for the student.\n",
    "2. The course should provide more examples of scientific applications of computer science in research because it would be helpful for STEM majors or students interested in research to see possible applications of coding. This could also help some students feel more value in the information learned.\n",
    "3. The course should utilize a lecture to discuss other computer languages and their benefits and common usages because it could be helpful for intro students to be exposed to multiple language possibilities in the beginning. It could also benefit the societal workforce that students could recognize multiple languages.\n",
    "4. The course should be fully synchronous and in person because it is beneficial for students to be in a classroom environment away from distractions in order to effectively learn.\n",
    "5. The course teaching assistants should send out email reminders for tutoring because sometimes it is more beneficial for students to be reminded of resources throughout the course, than to seek out the information. The more a student is reminded, the more they will potentially use the resource."
   ]
  },
  {
   "cell_type": "markdown",
   "metadata": {},
   "source": [
    "## Connecting with Available Data\n",
    "\n",
    "The data you have available for this analysis is limited to the anonymized course survey you and your peers filled out a few weeks ago. The data is found in the `survey.csv` file in this exercise directory. Each row represents an individual survey response. Each column has a description which can be found on the project write-up here: <https://22s.comp110.com/exercises/ex08.html>\n",
    "\n",
    "Review the list of available data and identify which one of your ideas _does not_, or is _least likely to_, have relevant data to support the analysis of your idea to create value. In the box below, identify which of your ideas lacks data and suggest how we might be able to collect this data in the future. One aspect of _continuous improvement_ is trying to avoid \"tunnel vision\" where possible improvements are not considered because there is no data available to analyze it. Identifying new data sources can unlock improvements!"
   ]
  },
  {
   "cell_type": "markdown",
   "metadata": {},
   "source": [
    "### Part 2. Identifying Missing Data\n",
    "\n",
    "1. Idea without sufficient data to analyze: \n",
    "My fifth idea probably has the least amount of data available to analyze it. There is nothing in the data that asked students why they do not go to tutoring or ways that would be more effective in promoting people to use this resource. The only data question we answered was about whether tutoring was effective, but this data does not help us analyze how to get more students to use the resource.\n",
    "\n",
    "2. Suggestion for how to collect data to support this idea in the future: \n",
    "My suggestion would be to ask another question for the people that chose that they did not use tutoring to ask why they did not use tutoring and give them possible answer choices like, \"I did not know when it was\", \"I am too confused to come up with questions for the tutor\", or \"I am intimidated\". You could also have a question that lists possible ways to improve attendance for tutoring, such as letting the students choose whether it would be beneficial to get email reminders or class reminders for tutor hours. "
   ]
  },
  {
   "cell_type": "markdown",
   "metadata": {},
   "source": [
    "## Choosing an Idea to Analyze\n",
    "\n",
    "Consider those of your ideas which _do_ seem likely to have relevant data to analyze. If none of your ideas do, spend a few minutes and brainstorm another idea or two with the added connection of data available on hand and add those ideas to your brainstormed ideas list.\n",
    "\n",
    "Select the one idea which you believe is _most valuable_ to analyze relative to the others and has data to support the analysis of. In the markdown cell for Part 3 below, identify the idea you are exploring and articulate why you believe it is most valuable (e.g. widest impact, biggest opportunity for improvement, simplest change for significant improvement, and so on)."
   ]
  },
  {
   "cell_type": "markdown",
   "metadata": {},
   "source": [
    "### Part 3. Choosing Your Analysis\n",
    "\n",
    "1. Idea to analyze with available data: \n",
    "I believe, with the survey data, I am most equipped to analyze my fourth idea, which is that the class should be fully synchronous and in person because it is beneficial for students to be in a learning environment away from distractions in order to effectively learn.\n",
    "\n",
    "2. This idea is more valuable than the others brainstormed because: \n",
    "I think this idea is more valuable because it is the simplest change for significant improvement. It would not be hard to implement a new policy that class is completely in person due to the fact that I believe most people are probably back in Chapel Hill by now and COVID cases have lowered to the point where we are not even required to wear masks indoors. This change could be beneficial for people who get easily distracted but do not have the self discipline to choose to come in person in order to avoid the temptations of succumbing to their distractions during class. For example, using your phone is a lot less obvious when you're taking the class online. It would also provide people with more structure in order to not get behind in class. I would be interested to see a comparison of people who had a high social media usage to the people that chose that they liked the asynchronous class options. Since social media is a big distractor, those who use it could prefer asynchronous classes so they do not have to go without it for an hour. \n"
   ]
  },
  {
   "cell_type": "markdown",
   "metadata": {},
   "source": [
    "## Your Analysis\n",
    "\n",
    "Before you begin analysis, a reminder that we do not expect the data to support everyone's ideas and you can complete this exercise for full credit even if the data does not clearly support your suggestion or even completely refutes it. What we are looking for is a logical attempt to explore the data using the techniques you have learned up until now in a way that _either_ supports, refutes, or does not have a clear result and then to reflect on your findings after the analysis.\n",
    "\n",
    "Using the utility functions you created for the previous exercise, you will continue with your analysis in the following part. Before you begin, refer to the rubric on the technical expectations of this section in the exercise write-up.\n",
    "\n",
    "In this section, you are expected to interleave code and markdown cells such that for each step of your analysis you are starting with an English description of what you are planning to do next in a markdown cell, followed by a Python cell that performs that step of the analysis."
   ]
  },
  {
   "cell_type": "markdown",
   "metadata": {},
   "source": [
    "### Part 4. Analysis\n",
    "\n",
    "We begin by changing some settings in the notebook to automatically reload changes to imported files."
   ]
  },
  {
   "cell_type": "code",
   "execution_count": 57,
   "metadata": {},
   "outputs": [],
   "source": [
    "%reload_ext autoreload\n",
    "%autoreload 2"
   ]
  },
  {
   "cell_type": "markdown",
   "metadata": {},
   "source": [
    "We continue by importing the helper functions from `data_utils`."
   ]
  },
  {
   "cell_type": "code",
   "execution_count": 58,
   "metadata": {},
   "outputs": [],
   "source": [
    "from data_utils import read_csv_rows, head, columnar, select, count, order_key, order_social_media"
   ]
  },
  {
   "cell_type": "markdown",
   "metadata": {},
   "source": [
    "Next, ... (you take it from here and add additional code and markdown cells to read in the CSV file and process it as needed)"
   ]
  },
  {
   "cell_type": "code",
   "execution_count": 59,
   "metadata": {},
   "outputs": [],
   "source": [
    "SURVEY_DATA_CSV_FILE_PATH: str = \"../../data/survey.csv\""
   ]
  },
  {
   "cell_type": "markdown",
   "metadata": {},
   "source": [
    "Next I want to use the read_csv_rows function to initially read the data from a stored CSV file into memory.\n",
    "I'm going to do this by copying the code that was used in the data wrangling exercise and using it with the survey data. \n",
    "By leaving in the code that gives the number of rows and columns, I can make sure that I successfully read in the right data. "
   ]
  },
  {
   "cell_type": "code",
   "execution_count": 60,
   "metadata": {},
   "outputs": [
    {
     "name": "stdout",
     "output_type": "stream",
     "text": [
      "Data File Read: ../../data/survey.csv\n",
      "620 rows\n",
      "35 columns\n",
      "Columns names: dict_keys(['row', 'year', 'unc_status', 'comp_major', 'primary_major', 'data_science', 'prereqs', 'prior_exp', 'ap_principles', 'ap_a', 'other_comp', 'prior_time', 'languages', 'hours_online_social', 'hours_online_work', 'lesson_time', 'sync_perf', 'all_sync', 'flipped_class', 'no_hybrid', 'own_notes', 'own_examples', 'oh_visits', 'ls_effective', 'lsqs_effective', 'programming_effective', 'qz_effective', 'oh_effective', 'tutoring_effective', 'pace', 'difficulty', 'understanding', 'interesting', 'valuable', 'would_recommend'])\n"
     ]
    }
   ],
   "source": [
    "data_rows: list[dict[str, str]] = read_csv_rows(SURVEY_DATA_CSV_FILE_PATH)\n",
    "\n",
    "if len(data_rows) == 0:\n",
    "    print(\"Go implement read_csv_rows in data_utils.py\")\n",
    "    print(\"Be sure to save your work before re-evaluating this cell!\")\n",
    "else:\n",
    "    print(f\"Data File Read: {SURVEY_DATA_CSV_FILE_PATH}\")\n",
    "    print(f\"{len(data_rows)} rows\")\n",
    "    print(f\"{len(data_rows[0].keys())} columns\")\n",
    "    print(f\"Columns names: {data_rows[0].keys()}\")"
   ]
  },
  {
   "cell_type": "markdown",
   "metadata": {},
   "source": [
    "Next, kind of following the path that the data wrangling exercise setup again, I want to use columnar to change my data into column-oriented instead of row-oriented in a list so that it can be analyzed easier, possibly. Again, I am following the code that we were provided with in ex07 to guide my code-writing.\n",
    "I kept the printed aspects again in order to ensure I am successfully coding what I think I am coding. "
   ]
  },
  {
   "cell_type": "code",
   "execution_count": 61,
   "metadata": {},
   "outputs": [
    {
     "name": "stdout",
     "output_type": "stream",
     "text": [
      "35 columns\n",
      "620 rows\n",
      "Columns names: dict_keys(['row', 'year', 'unc_status', 'comp_major', 'primary_major', 'data_science', 'prereqs', 'prior_exp', 'ap_principles', 'ap_a', 'other_comp', 'prior_time', 'languages', 'hours_online_social', 'hours_online_work', 'lesson_time', 'sync_perf', 'all_sync', 'flipped_class', 'no_hybrid', 'own_notes', 'own_examples', 'oh_visits', 'ls_effective', 'lsqs_effective', 'programming_effective', 'qz_effective', 'oh_effective', 'tutoring_effective', 'pace', 'difficulty', 'understanding', 'interesting', 'valuable', 'would_recommend'])\n"
     ]
    }
   ],
   "source": [
    "\n",
    "data_cols: dict[str, list[str]] = columnar(data_rows)\n",
    "\n",
    "if len(data_cols.keys()) == 0:\n",
    "    print(\"Complete your implementation of columnar in data_utils.py\")\n",
    "    print(\"Be sure to follow the guidelines above and save your work before re-evaluating!\")\n",
    "else:\n",
    "    print(f\"{len(data_cols.keys())} columns\")\n",
    "    print(f\"{len(data_cols['unc_status'])} rows\")\n",
    "    print(f\"Columns names: {data_cols.keys()}\")"
   ]
  },
  {
   "cell_type": "markdown",
   "metadata": {},
   "source": [
    "Next, I liked the look of the tables that we created in ex07 with the tabulate built-in function, so I am going to import that again into this project. "
   ]
  },
  {
   "cell_type": "code",
   "execution_count": 62,
   "metadata": {},
   "outputs": [],
   "source": [
    "from tabulate import tabulate"
   ]
  },
  {
   "cell_type": "markdown",
   "metadata": {},
   "source": [
    "Next, I am going to use the select function (that utilizes the head function within it) so that I have a table that only has the data that is relevent to my analysis question. I am going to put hours_online_social, sync_perf, all_sync, difficulty, understanding in my table because these columns are the ones where I think I can find a connection from whether the people who use social media a lot want to keep the class asynchronous and online. This data might be able to provide some connection to those who are distracted in class (those who use social media a lot) to those who think the class is difficult or are having a hard time understanding too. I predict that people with high social media usage are going to be less likely to want to go to fully synchronous classes. I also predict that the people who are having the most difficulty in the class will have higher social media hours. Again, I am copying this from the ex07 code.  "
   ]
  },
  {
   "cell_type": "code",
   "execution_count": 63,
   "metadata": {},
   "outputs": [
    {
     "data": {
      "text/html": [
       "<table>\n",
       "<thead>\n",
       "<tr><th>hours_online_social  </th><th style=\"text-align: right;\">  sync_perf</th><th style=\"text-align: right;\">  all_sync</th><th style=\"text-align: right;\">  difficulty</th><th style=\"text-align: right;\">  understanding</th></tr>\n",
       "</thead>\n",
       "<tbody>\n",
       "<tr><td>3 to 5 hours         </td><td style=\"text-align: right;\">          2</td><td style=\"text-align: right;\">         2</td><td style=\"text-align: right;\">           1</td><td style=\"text-align: right;\">              7</td></tr>\n",
       "<tr><td>0 to 2 hours         </td><td style=\"text-align: right;\">          3</td><td style=\"text-align: right;\">         3</td><td style=\"text-align: right;\">           6</td><td style=\"text-align: right;\">              3</td></tr>\n",
       "<tr><td>3 to 5 hours         </td><td style=\"text-align: right;\">          3</td><td style=\"text-align: right;\">         4</td><td style=\"text-align: right;\">           4</td><td style=\"text-align: right;\">              6</td></tr>\n",
       "<tr><td>3 to 5 hours         </td><td style=\"text-align: right;\">          5</td><td style=\"text-align: right;\">         4</td><td style=\"text-align: right;\">           4</td><td style=\"text-align: right;\">              5</td></tr>\n",
       "<tr><td>0 to 2 hours         </td><td style=\"text-align: right;\">          3</td><td style=\"text-align: right;\">         3</td><td style=\"text-align: right;\">           5</td><td style=\"text-align: right;\">              5</td></tr>\n",
       "<tr><td>10+ hours            </td><td style=\"text-align: right;\">          2</td><td style=\"text-align: right;\">         2</td><td style=\"text-align: right;\">           3</td><td style=\"text-align: right;\">              6</td></tr>\n",
       "<tr><td>3 to 5 hours         </td><td style=\"text-align: right;\">          3</td><td style=\"text-align: right;\">         3</td><td style=\"text-align: right;\">           4</td><td style=\"text-align: right;\">              6</td></tr>\n",
       "<tr><td>5 to 10 hours        </td><td style=\"text-align: right;\">          2</td><td style=\"text-align: right;\">         2</td><td style=\"text-align: right;\">           4</td><td style=\"text-align: right;\">              7</td></tr>\n",
       "<tr><td>0 to 2 hours         </td><td style=\"text-align: right;\">          5</td><td style=\"text-align: right;\">         4</td><td style=\"text-align: right;\">           4</td><td style=\"text-align: right;\">              6</td></tr>\n",
       "<tr><td>3 to 5 hours         </td><td style=\"text-align: right;\">          2</td><td style=\"text-align: right;\">         2</td><td style=\"text-align: right;\">           4</td><td style=\"text-align: right;\">              6</td></tr>\n",
       "</tbody>\n",
       "</table>"
      ],
      "text/plain": [
       "'<table>\\n<thead>\\n<tr><th>hours_online_social  </th><th style=\"text-align: right;\">  sync_perf</th><th style=\"text-align: right;\">  all_sync</th><th style=\"text-align: right;\">  difficulty</th><th style=\"text-align: right;\">  understanding</th></tr>\\n</thead>\\n<tbody>\\n<tr><td>3 to 5 hours         </td><td style=\"text-align: right;\">          2</td><td style=\"text-align: right;\">         2</td><td style=\"text-align: right;\">           1</td><td style=\"text-align: right;\">              7</td></tr>\\n<tr><td>0 to 2 hours         </td><td style=\"text-align: right;\">          3</td><td style=\"text-align: right;\">         3</td><td style=\"text-align: right;\">           6</td><td style=\"text-align: right;\">              3</td></tr>\\n<tr><td>3 to 5 hours         </td><td style=\"text-align: right;\">          3</td><td style=\"text-align: right;\">         4</td><td style=\"text-align: right;\">           4</td><td style=\"text-align: right;\">              6</td></tr>\\n<tr><td>3 to 5 hours         </td><td style=\"text-align: right;\">          5</td><td style=\"text-align: right;\">         4</td><td style=\"text-align: right;\">           4</td><td style=\"text-align: right;\">              5</td></tr>\\n<tr><td>0 to 2 hours         </td><td style=\"text-align: right;\">          3</td><td style=\"text-align: right;\">         3</td><td style=\"text-align: right;\">           5</td><td style=\"text-align: right;\">              5</td></tr>\\n<tr><td>10+ hours            </td><td style=\"text-align: right;\">          2</td><td style=\"text-align: right;\">         2</td><td style=\"text-align: right;\">           3</td><td style=\"text-align: right;\">              6</td></tr>\\n<tr><td>3 to 5 hours         </td><td style=\"text-align: right;\">          3</td><td style=\"text-align: right;\">         3</td><td style=\"text-align: right;\">           4</td><td style=\"text-align: right;\">              6</td></tr>\\n<tr><td>5 to 10 hours        </td><td style=\"text-align: right;\">          2</td><td style=\"text-align: right;\">         2</td><td style=\"text-align: right;\">           4</td><td style=\"text-align: right;\">              7</td></tr>\\n<tr><td>0 to 2 hours         </td><td style=\"text-align: right;\">          5</td><td style=\"text-align: right;\">         4</td><td style=\"text-align: right;\">           4</td><td style=\"text-align: right;\">              6</td></tr>\\n<tr><td>3 to 5 hours         </td><td style=\"text-align: right;\">          2</td><td style=\"text-align: right;\">         2</td><td style=\"text-align: right;\">           4</td><td style=\"text-align: right;\">              6</td></tr>\\n</tbody>\\n</table>'"
      ]
     },
     "execution_count": 63,
     "metadata": {},
     "output_type": "execute_result"
    }
   ],
   "source": [
    "\n",
    "selected_data: dict[str, list[str]] = select(data_cols, [\"hours_online_social\", \"sync_perf\", \"all_sync\", \"difficulty\", \"understanding\"])\n",
    "\n",
    "tabulate(head(selected_data, 10), selected_data.keys(), \"html\")\n",
    "# I am going to leave the data at 10 rows just because it takes up a lot of room when I run it. I will look at more data to get an accurate analysis later. "
   ]
  },
  {
   "cell_type": "markdown",
   "metadata": {},
   "source": [
    "Next, I am going to use the count function so that I can get a gauge as to where the majority of the people in the class stand in regards to the data from the table I made above. For example, it would be good to look at count data to be able to see quickly whether most people in the class spend 0 to 2 hours on social media a day or if more people spend 10 + hours. This will help me interpret my data later on. Again, I am modifiying the code that was already given to use in the count part of ex07 to analyze this survey data. \n",
    "\n",
    "This piece of code also includes my helper function. I made a helper function that will order the strings "
   ]
  },
  {
   "cell_type": "code",
   "execution_count": 64,
   "metadata": {},
   "outputs": [
    {
     "name": "stdout",
     "output_type": "stream",
     "text": [
      "social_media_counts: {'None': 1, '0 to 2 hours': 116, '3 to 5 hours': 327, '5 to 10 hours': 143, '10+ hours': 33}\n",
      "sync_perf_counts: {'1': 149, '2': 154, '3': 94, '4': 101, '5': 42, '6': 29, '7': 51}\n",
      "all_sync_counts: {'1': 201, '2': 155, '3': 71, '4': 85, '5': 44, '6': 25, '7': 39}\n",
      "difficulty_counts: {'1': 23, '2': 54, '3': 84, '4': 160, '5': 155, '6': 88, '7': 56}\n",
      "understanding_counts: {'1': 14, '2': 28, '3': 68, '4': 82, '5': 172, '6': 182, '7': 74}\n"
     ]
    }
   ],
   "source": [
    "social_media_counts: dict[str, int] = order_social_media(count(selected_data[\"hours_online_social\"]))\n",
    "print(f\"social_media_counts: {social_media_counts}\")\n",
    "\n",
    "sync_perf_counts: dict[str, int] = order_key(count(selected_data[\"sync_perf\"]))\n",
    "print(f\"sync_perf_counts: {sync_perf_counts}\")\n",
    "\n",
    "all_sync_counts: dict[str, int] = order_key(count(selected_data[\"all_sync\"]))\n",
    "print(f\"all_sync_counts: {all_sync_counts}\")\n",
    "\n",
    "difficulty_counts: dict[str, int] = order_key(count(selected_data[\"difficulty\"]))\n",
    "print(f\"difficulty_counts: {difficulty_counts}\")\n",
    "\n",
    "understanding_counts: dict[str, int] = order_key(count(selected_data[\"understanding\"]))\n",
    "print(f\"understanding_counts: {understanding_counts}\")"
   ]
  },
  {
   "cell_type": "markdown",
   "metadata": {},
   "source": [
    "Finally, I am going to make a few bar charts to compare the answers to the "
   ]
  },
  {
   "cell_type": "code",
   "execution_count": 74,
   "metadata": {},
   "outputs": [
    {
     "data": {
      "text/plain": [
       "<BarContainer object of 7 artists>"
      ]
     },
     "execution_count": 74,
     "metadata": {},
     "output_type": "execute_result"
    },
    {
     "data": {
      "image/png": "[encoded data removed]",
      "text/plain": [
       "<Figure size 1800x360 with 5 Axes>"
      ]
     },
     "metadata": {
      "needs_background": "light"
     },
     "output_type": "display_data"
    }
   ],
   "source": [
    "from matplotlib import pyplot as plt\n",
    "\n",
    "fig, axes = plt.subplots(1, 5, figsize=(25, 5), sharey=True)\n",
    "fig.suptitle(\"Student Survey in COMP 110 Spring 2022\")\n",
    "\n",
    "axes[0].set_title(\"Social media usage per day\")\n",
    "axes[0].bar(social_media_counts.keys(), social_media_counts.values())\n",
    "axes[0].tick_params(axis='x', labelrotation = 45)\n",
    "\n",
    "axes[1].set_title(\"Beliefs towards going fully synchronous\")\n",
    "axes[1].bar(all_sync_counts.keys(), all_sync_counts.values())\n",
    "\n",
    "axes[2].set_title(\"Belief that performance will change with synchronous\")\n",
    "axes[2].bar(sync_perf_counts.keys(), sync_perf_counts.values())\n",
    "\n",
    "axes[3].set_title(\"Level of understanding\")\n",
    "axes[3].bar(understanding_counts.keys(), understanding_counts.values())\n",
    "\n",
    "axes[4].set_title(\"Level of difficulty\")\n",
    "axes[4].bar(difficulty_counts.keys(), difficulty_counts.values())"
   ]
  },
  {
   "cell_type": "markdown",
   "metadata": {},
   "source": [
    "## Conclusion\n",
    "\n",
    "In the following markdown cell, write a reflective conclusion given the analysis you performed and identify recommendations.\n",
    "\n",
    "If your analysis of the data supports your idea, state your recommendation for the change and summarize the data analysys results you found which support it. Additionally, describe any extensions or refinements to this idea which might be explored further. Finally, discuss the potential costs, trade-offs, or stakeholders who may be negatively impacted by this proposed change.\n",
    "\n",
    "If your analysis of the data is inconclusive, summarize why your data analysis results were inconclusive in the support of your idea. Additionally, describe what experimental idea implementation or additional data collection might help build more confidence in assessing your idea. Finally, discuss the potential costs, trade-offs, or stakeholders who may be negatively impacted by experimenting with your idea.\n",
    "\n",
    "Finally, if your analysis of the data does not support it, summarize your data analysis results and why it refutes your idea. Discuss the potential costs, trade-offs, or stakeholders who may be negatively impacted by this proposed change. If you disagree with the validity of the findings, describe why your idea still makes sense to implement and what alternative data would better support it. If you agree with the validity of the data analysis, describe what alternate ideas or extensions you would explore instead. "
   ]
  },
  {
   "cell_type": "markdown",
   "metadata": {},
   "source": [
    "### Part 5. Conclusion\n",
    "\n"
   ]
  }
 ],
 "metadata": {
  "interpreter": {
   "hash": "aee8b7b246df8f9039afb4144a1f6fd8d2ca17a180786b69acc140d282b71a49"
  },
  "kernelspec": {
   "display_name": "Python 3.10.2 64-bit",
   "language": "python",
   "name": "python3"
  },
  "language_info": {
   "codemirror_mode": {
    "name": "ipython",
    "version": 3
   },
   "file_extension": ".py",
   "mimetype": "text/x-python",
   "name": "python",
   "nbconvert_exporter": "python",
   "pygments_lexer": "ipython3",
   "version": "3.10.1"
  },
  "orig_nbformat": 4
 },
 "nbformat": 4,
 "nbformat_minor": 2
}
